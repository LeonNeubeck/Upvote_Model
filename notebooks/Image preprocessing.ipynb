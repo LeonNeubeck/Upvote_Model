{
 "cells": [
  {
   "cell_type": "code",
   "execution_count": 1,
   "id": "909d5c10",
   "metadata": {},
   "outputs": [],
   "source": [
    "import numpy as np\n",
    "import seaborn as sns\n",
    "import pandas as pd\n",
    "import matplotlib.pyplot as plt\n",
    "import IPython\n",
    "import urllib.request\n",
    "from urllib.error import HTTPError\n",
    "\n",
    "import requests\n",
    "import os\n",
    "os.environ[\"TF_CPP_MIN_LOG_LEVEL\"]=\"3\" # get rid of all tensorflow warnings\n",
    "#image process\n",
    "import tensorflow as tf\n",
    "\n",
    "\n",
    "\n",
    "\n",
    "from tensorflow.keras.utils import to_categorical\n",
    "from tqdm import tqdm\n",
    "import numpy as np\n",
    "import os\n",
    "from PIL import Image\n",
    "import os\n",
    "from os import listdir\n",
    "import pandas as pd\n",
    "import matplotlib.pyplot as plt\n"
   ]
  },
  {
   "cell_type": "code",
   "execution_count": 2,
   "id": "7e909bae",
   "metadata": {},
   "outputs": [],
   "source": [
    "def find_square(tuple_):\n",
    "    width, height = tuple_\n",
    "    if width>height:\n",
    "        lower = height\n",
    "        upper = 0\n",
    "        delta = int((width-height)/2)\n",
    "        left = delta\n",
    "        right = width-delta\n",
    "    elif width<height:\n",
    "        left = 0\n",
    "        right = width\n",
    "        delta = int((height-width)/2)\n",
    "        upper = delta\n",
    "        lower = height-delta\n",
    "    else:\n",
    "        left = 0\n",
    "        right = width\n",
    "        upper = 0\n",
    "        lower = height\n",
    "    return (left, upper, right, lower)\n",
    "\n",
    "\n",
    "from PIL import Image\n",
    "import urllib.request\n",
    "\n",
    "def save_correct_image(vec):\n",
    "    id_ = vec[0]\n",
    "    url = vec[1]\n",
    "    print(vec)\n",
    "    try:\n",
    "        urllib.request.urlretrieve(url, id_)\n",
    "        image = Image.open(f'{id_}')\n",
    "        w,h = image.size\n",
    "        size = w*h\n",
    "        box = find_square(image.size)\n",
    "        crop_image = image.crop(box)\n",
    "        final_image = crop_image.resize((128, 128))\n",
    "        final_image.save(f'images/{id_}')\n",
    "        os.remove(f'{id_}')\n",
    "        return size\n",
    "    except:\n",
    "        os.remove(f'{id_}')\n",
    "        return -1\n",
    "    \n",
    "\n",
    "\n",
    "def preprocess_image(df):\n",
    "    data = df.dropna()\n",
    "    data['Image_url']= data['Image_url'].astype(\"string\")\n",
    "    data[\"gallery_bool\"] = data[\"Image_url\"].apply(lambda x: True if \"gallery\" in x else False)\n",
    "    data[\"video_bool\"]= data[\"Image_url\"].apply(lambda x: True if \"//v.\" in x else False)\n",
    "    data[\"not_advertisement\"] = data[\"Image_url\"].apply(lambda x: True if \"imgur\" in x or \"redd\" in x else False)\n",
    "    data_images = data[data.video_bool==False].drop(columns ={\"video_bool\"})[data_no_nan.not_advertisement].drop(columns ={\"not_advertisement\"})\n",
    "    data_galleries = data_images[data_images.gallery_bool].drop(columns ={\"gallery_bool\"})\n",
    "    data_pics = data_images[data_images.gallery_bool==False].drop(columns ={\"gallery_bool\"})\n",
    "    data_pics[\"Image_url\"] = data_pics[\"Image_url\"].apply(lambda x : x if \".jpg\" in x or \".png\" in x else  x+\".jpg\" )\n",
    "    data_pics[\"size\"] = data_final[[\"id\",\"Image_url\"]].apply(save_correct_image, axis=1)\n",
    "    return data_pics\n",
    "    \n",
    "    \n"
   ]
  },
  {
   "cell_type": "code",
   "execution_count": 3,
   "id": "743190b3",
   "metadata": {},
   "outputs": [
    {
     "ename": "KeyboardInterrupt",
     "evalue": "",
     "output_type": "error",
     "traceback": [
      "\u001b[0;31m---------------------------------------------------------------------------\u001b[0m",
      "\u001b[0;31mKeyboardInterrupt\u001b[0m                         Traceback (most recent call last)",
      "Cell \u001b[0;32mIn [3], line 1\u001b[0m\n\u001b[0;32m----> 1\u001b[0m df \u001b[38;5;241m=\u001b[39m \u001b[43mpd\u001b[49m\u001b[38;5;241;43m.\u001b[39;49m\u001b[43mread_csv\u001b[49m\u001b[43m(\u001b[49m\u001b[38;5;124;43m'\u001b[39;49m\u001b[38;5;124;43mSEND_150k_data.csv\u001b[39;49m\u001b[38;5;124;43m'\u001b[39;49m\u001b[43m,\u001b[49m\u001b[43m \u001b[49m\u001b[43mindex_col\u001b[49m\u001b[38;5;241;43m=\u001b[39;49m\u001b[38;5;241;43m0\u001b[39;49m\u001b[43m)\u001b[49m\n\u001b[1;32m      3\u001b[0m data_final \u001b[38;5;241m=\u001b[39m preprocess_image(df)\n",
      "File \u001b[0;32m~/.pyenv/versions/3.10.6/envs/Upvote_Model/lib/python3.10/site-packages/pandas/util/_decorators.py:211\u001b[0m, in \u001b[0;36mdeprecate_kwarg.<locals>._deprecate_kwarg.<locals>.wrapper\u001b[0;34m(*args, **kwargs)\u001b[0m\n\u001b[1;32m    209\u001b[0m     \u001b[38;5;28;01melse\u001b[39;00m:\n\u001b[1;32m    210\u001b[0m         kwargs[new_arg_name] \u001b[38;5;241m=\u001b[39m new_arg_value\n\u001b[0;32m--> 211\u001b[0m \u001b[38;5;28;01mreturn\u001b[39;00m \u001b[43mfunc\u001b[49m\u001b[43m(\u001b[49m\u001b[38;5;241;43m*\u001b[39;49m\u001b[43margs\u001b[49m\u001b[43m,\u001b[49m\u001b[43m \u001b[49m\u001b[38;5;241;43m*\u001b[39;49m\u001b[38;5;241;43m*\u001b[39;49m\u001b[43mkwargs\u001b[49m\u001b[43m)\u001b[49m\n",
      "File \u001b[0;32m~/.pyenv/versions/3.10.6/envs/Upvote_Model/lib/python3.10/site-packages/pandas/util/_decorators.py:331\u001b[0m, in \u001b[0;36mdeprecate_nonkeyword_arguments.<locals>.decorate.<locals>.wrapper\u001b[0;34m(*args, **kwargs)\u001b[0m\n\u001b[1;32m    325\u001b[0m \u001b[38;5;28;01mif\u001b[39;00m \u001b[38;5;28mlen\u001b[39m(args) \u001b[38;5;241m>\u001b[39m num_allow_args:\n\u001b[1;32m    326\u001b[0m     warnings\u001b[38;5;241m.\u001b[39mwarn(\n\u001b[1;32m    327\u001b[0m         msg\u001b[38;5;241m.\u001b[39mformat(arguments\u001b[38;5;241m=\u001b[39m_format_argument_list(allow_args)),\n\u001b[1;32m    328\u001b[0m         \u001b[38;5;167;01mFutureWarning\u001b[39;00m,\n\u001b[1;32m    329\u001b[0m         stacklevel\u001b[38;5;241m=\u001b[39mfind_stack_level(),\n\u001b[1;32m    330\u001b[0m     )\n\u001b[0;32m--> 331\u001b[0m \u001b[38;5;28;01mreturn\u001b[39;00m \u001b[43mfunc\u001b[49m\u001b[43m(\u001b[49m\u001b[38;5;241;43m*\u001b[39;49m\u001b[43margs\u001b[49m\u001b[43m,\u001b[49m\u001b[43m \u001b[49m\u001b[38;5;241;43m*\u001b[39;49m\u001b[38;5;241;43m*\u001b[39;49m\u001b[43mkwargs\u001b[49m\u001b[43m)\u001b[49m\n",
      "File \u001b[0;32m~/.pyenv/versions/3.10.6/envs/Upvote_Model/lib/python3.10/site-packages/pandas/io/parsers/readers.py:950\u001b[0m, in \u001b[0;36mread_csv\u001b[0;34m(filepath_or_buffer, sep, delimiter, header, names, index_col, usecols, squeeze, prefix, mangle_dupe_cols, dtype, engine, converters, true_values, false_values, skipinitialspace, skiprows, skipfooter, nrows, na_values, keep_default_na, na_filter, verbose, skip_blank_lines, parse_dates, infer_datetime_format, keep_date_col, date_parser, dayfirst, cache_dates, iterator, chunksize, compression, thousands, decimal, lineterminator, quotechar, quoting, doublequote, escapechar, comment, encoding, encoding_errors, dialect, error_bad_lines, warn_bad_lines, on_bad_lines, delim_whitespace, low_memory, memory_map, float_precision, storage_options)\u001b[0m\n\u001b[1;32m    935\u001b[0m kwds_defaults \u001b[38;5;241m=\u001b[39m _refine_defaults_read(\n\u001b[1;32m    936\u001b[0m     dialect,\n\u001b[1;32m    937\u001b[0m     delimiter,\n\u001b[0;32m   (...)\u001b[0m\n\u001b[1;32m    946\u001b[0m     defaults\u001b[38;5;241m=\u001b[39m{\u001b[38;5;124m\"\u001b[39m\u001b[38;5;124mdelimiter\u001b[39m\u001b[38;5;124m\"\u001b[39m: \u001b[38;5;124m\"\u001b[39m\u001b[38;5;124m,\u001b[39m\u001b[38;5;124m\"\u001b[39m},\n\u001b[1;32m    947\u001b[0m )\n\u001b[1;32m    948\u001b[0m kwds\u001b[38;5;241m.\u001b[39mupdate(kwds_defaults)\n\u001b[0;32m--> 950\u001b[0m \u001b[38;5;28;01mreturn\u001b[39;00m \u001b[43m_read\u001b[49m\u001b[43m(\u001b[49m\u001b[43mfilepath_or_buffer\u001b[49m\u001b[43m,\u001b[49m\u001b[43m \u001b[49m\u001b[43mkwds\u001b[49m\u001b[43m)\u001b[49m\n",
      "File \u001b[0;32m~/.pyenv/versions/3.10.6/envs/Upvote_Model/lib/python3.10/site-packages/pandas/io/parsers/readers.py:611\u001b[0m, in \u001b[0;36m_read\u001b[0;34m(filepath_or_buffer, kwds)\u001b[0m\n\u001b[1;32m    608\u001b[0m     \u001b[38;5;28;01mreturn\u001b[39;00m parser\n\u001b[1;32m    610\u001b[0m \u001b[38;5;28;01mwith\u001b[39;00m parser:\n\u001b[0;32m--> 611\u001b[0m     \u001b[38;5;28;01mreturn\u001b[39;00m \u001b[43mparser\u001b[49m\u001b[38;5;241;43m.\u001b[39;49m\u001b[43mread\u001b[49m\u001b[43m(\u001b[49m\u001b[43mnrows\u001b[49m\u001b[43m)\u001b[49m\n",
      "File \u001b[0;32m~/.pyenv/versions/3.10.6/envs/Upvote_Model/lib/python3.10/site-packages/pandas/io/parsers/readers.py:1778\u001b[0m, in \u001b[0;36mTextFileReader.read\u001b[0;34m(self, nrows)\u001b[0m\n\u001b[1;32m   1771\u001b[0m nrows \u001b[38;5;241m=\u001b[39m validate_integer(\u001b[38;5;124m\"\u001b[39m\u001b[38;5;124mnrows\u001b[39m\u001b[38;5;124m\"\u001b[39m, nrows)\n\u001b[1;32m   1772\u001b[0m \u001b[38;5;28;01mtry\u001b[39;00m:\n\u001b[1;32m   1773\u001b[0m     \u001b[38;5;66;03m# error: \"ParserBase\" has no attribute \"read\"\u001b[39;00m\n\u001b[1;32m   1774\u001b[0m     (\n\u001b[1;32m   1775\u001b[0m         index,\n\u001b[1;32m   1776\u001b[0m         columns,\n\u001b[1;32m   1777\u001b[0m         col_dict,\n\u001b[0;32m-> 1778\u001b[0m     ) \u001b[38;5;241m=\u001b[39m \u001b[38;5;28;43mself\u001b[39;49m\u001b[38;5;241;43m.\u001b[39;49m\u001b[43m_engine\u001b[49m\u001b[38;5;241;43m.\u001b[39;49m\u001b[43mread\u001b[49m\u001b[43m(\u001b[49m\u001b[43m  \u001b[49m\u001b[38;5;66;43;03m# type: ignore[attr-defined]\u001b[39;49;00m\n\u001b[1;32m   1779\u001b[0m \u001b[43m        \u001b[49m\u001b[43mnrows\u001b[49m\n\u001b[1;32m   1780\u001b[0m \u001b[43m    \u001b[49m\u001b[43m)\u001b[49m\n\u001b[1;32m   1781\u001b[0m \u001b[38;5;28;01mexcept\u001b[39;00m \u001b[38;5;167;01mException\u001b[39;00m:\n\u001b[1;32m   1782\u001b[0m     \u001b[38;5;28mself\u001b[39m\u001b[38;5;241m.\u001b[39mclose()\n",
      "File \u001b[0;32m~/.pyenv/versions/3.10.6/envs/Upvote_Model/lib/python3.10/site-packages/pandas/io/parsers/c_parser_wrapper.py:230\u001b[0m, in \u001b[0;36mCParserWrapper.read\u001b[0;34m(self, nrows)\u001b[0m\n\u001b[1;32m    228\u001b[0m \u001b[38;5;28;01mtry\u001b[39;00m:\n\u001b[1;32m    229\u001b[0m     \u001b[38;5;28;01mif\u001b[39;00m \u001b[38;5;28mself\u001b[39m\u001b[38;5;241m.\u001b[39mlow_memory:\n\u001b[0;32m--> 230\u001b[0m         chunks \u001b[38;5;241m=\u001b[39m \u001b[38;5;28;43mself\u001b[39;49m\u001b[38;5;241;43m.\u001b[39;49m\u001b[43m_reader\u001b[49m\u001b[38;5;241;43m.\u001b[39;49m\u001b[43mread_low_memory\u001b[49m\u001b[43m(\u001b[49m\u001b[43mnrows\u001b[49m\u001b[43m)\u001b[49m\n\u001b[1;32m    231\u001b[0m         \u001b[38;5;66;03m# destructive to chunks\u001b[39;00m\n\u001b[1;32m    232\u001b[0m         data \u001b[38;5;241m=\u001b[39m _concatenate_chunks(chunks)\n",
      "File \u001b[0;32m~/.pyenv/versions/3.10.6/envs/Upvote_Model/lib/python3.10/site-packages/pandas/_libs/parsers.pyx:808\u001b[0m, in \u001b[0;36mpandas._libs.parsers.TextReader.read_low_memory\u001b[0;34m()\u001b[0m\n",
      "File \u001b[0;32m~/.pyenv/versions/3.10.6/envs/Upvote_Model/lib/python3.10/site-packages/pandas/_libs/parsers.pyx:890\u001b[0m, in \u001b[0;36mpandas._libs.parsers.TextReader._read_rows\u001b[0;34m()\u001b[0m\n",
      "File \u001b[0;32m~/.pyenv/versions/3.10.6/envs/Upvote_Model/lib/python3.10/site-packages/pandas/_libs/parsers.pyx:1049\u001b[0m, in \u001b[0;36mpandas._libs.parsers.TextReader._convert_column_data\u001b[0;34m()\u001b[0m\n",
      "File \u001b[0;32m~/.pyenv/versions/3.10.6/envs/Upvote_Model/lib/python3.10/site-packages/pandas/core/dtypes/common.py:1433\u001b[0m, in \u001b[0;36mis_extension_array_dtype\u001b[0;34m(arr_or_dtype)\u001b[0m\n\u001b[1;32m   1424\u001b[0m     \u001b[38;5;66;03m# Note: if other EA dtypes are ever held in HybridBlock, exclude those\u001b[39;00m\n\u001b[1;32m   1425\u001b[0m     \u001b[38;5;66;03m#  here too.\u001b[39;00m\n\u001b[1;32m   1426\u001b[0m     \u001b[38;5;66;03m# NB: need to check DatetimeTZDtype and not is_datetime64tz_dtype\u001b[39;00m\n\u001b[1;32m   1427\u001b[0m     \u001b[38;5;66;03m#  to exclude ArrowTimestampUSDtype\u001b[39;00m\n\u001b[1;32m   1428\u001b[0m     \u001b[38;5;28;01mreturn\u001b[39;00m \u001b[38;5;28misinstance\u001b[39m(dtype, ExtensionDtype) \u001b[38;5;129;01mand\u001b[39;00m \u001b[38;5;129;01mnot\u001b[39;00m \u001b[38;5;28misinstance\u001b[39m(\n\u001b[1;32m   1429\u001b[0m         dtype, (DatetimeTZDtype, PeriodDtype)\n\u001b[1;32m   1430\u001b[0m     )\n\u001b[0;32m-> 1433\u001b[0m \u001b[38;5;28;01mdef\u001b[39;00m \u001b[38;5;21mis_extension_array_dtype\u001b[39m(arr_or_dtype) \u001b[38;5;241m-\u001b[39m\u001b[38;5;241m>\u001b[39m \u001b[38;5;28mbool\u001b[39m:\n\u001b[1;32m   1434\u001b[0m     \u001b[38;5;124;03m\"\"\"\u001b[39;00m\n\u001b[1;32m   1435\u001b[0m \u001b[38;5;124;03m    Check if an object is a pandas extension array type.\u001b[39;00m\n\u001b[1;32m   1436\u001b[0m \n\u001b[0;32m   (...)\u001b[0m\n\u001b[1;32m   1476\u001b[0m \u001b[38;5;124;03m    False\u001b[39;00m\n\u001b[1;32m   1477\u001b[0m \u001b[38;5;124;03m    \"\"\"\u001b[39;00m\n\u001b[1;32m   1478\u001b[0m     dtype \u001b[38;5;241m=\u001b[39m \u001b[38;5;28mgetattr\u001b[39m(arr_or_dtype, \u001b[38;5;124m\"\u001b[39m\u001b[38;5;124mdtype\u001b[39m\u001b[38;5;124m\"\u001b[39m, arr_or_dtype)\n",
      "\u001b[0;31mKeyboardInterrupt\u001b[0m: "
     ]
    }
   ],
   "source": [
    "df = pd.read_csv('SEND_150k_data.csv', index_col=0)\n",
    "\n",
    "data_final = preprocess_image(df)"
   ]
  },
  {
   "cell_type": "code",
   "execution_count": null,
   "id": "4d958dd3",
   "metadata": {},
   "outputs": [],
   "source": [
    "data_no_nan = data.dropna()\n",
    "data_no_nan['Image_url']= data_no_nan['Image_url'].astype(\"string\")\n",
    "#data_no_nan\n"
   ]
  },
  {
   "cell_type": "code",
   "execution_count": null,
   "id": "c7fd49b4",
   "metadata": {},
   "outputs": [],
   "source": [
    "data_no_nan[\"gallery_bool\"] = data_no_nan[\"Image_url\"].apply(lambda x: True if \"gallery\" in x else False)\n",
    "data_no_nan[\"video_bool\"]= data_no_nan[\"Image_url\"].apply(lambda x: True if \"//v.\" in x else False)\n",
    "data_no_nan[\"not_advertisement\"] = data_no_nan[\"Image_url\"].apply(lambda x: True if \"imgur\" in x or \"redd\" in x else False)\n",
    "#data_no_nan"
   ]
  },
  {
   "cell_type": "code",
   "execution_count": null,
   "id": "19a5d6b1",
   "metadata": {},
   "outputs": [],
   "source": [
    "data_images = data_no_nan[data_no_nan.video_bool==False].drop(columns ={\"video_bool\"})[data_no_nan.not_advertisement].drop(columns ={\"not_advertisement\"})\n",
    "data_galleries = data_images[data_images.gallery_bool].drop(columns ={\"gallery_bool\"})\n",
    "data_pics = data_images[data_images.gallery_bool==False].drop(columns ={\"gallery_bool\"})\n",
    "#data_galleries\n"
   ]
  },
  {
   "cell_type": "code",
   "execution_count": null,
   "id": "94c60f1b",
   "metadata": {},
   "outputs": [],
   "source": [
    "#data_pics"
   ]
  },
  {
   "cell_type": "code",
   "execution_count": null,
   "id": "f66256c8",
   "metadata": {},
   "outputs": [],
   "source": [
    "data_pics[\"Image_url\"] = data_pics[\"Image_url\"].apply(lambda x : x if \".jpg\" in x or \".png\" in x else  x+\".jpg\" )\n"
   ]
  },
  {
   "cell_type": "code",
   "execution_count": null,
   "id": "224e9c15",
   "metadata": {},
   "outputs": [],
   "source": [
    "#data_pics.tail(50)"
   ]
  },
  {
   "cell_type": "code",
   "execution_count": null,
   "id": "98c29022",
   "metadata": {},
   "outputs": [],
   "source": [
    "data_final = data_pics"
   ]
  },
  {
   "cell_type": "code",
   "execution_count": null,
   "id": "90d04825",
   "metadata": {},
   "outputs": [],
   "source": [
    "data_final "
   ]
  },
  {
   "cell_type": "code",
   "execution_count": null,
   "id": "3fd8a86c",
   "metadata": {},
   "outputs": [],
   "source": [
    "def find_square(tuple_):\n",
    "    width, height = tuple_\n",
    "    if width>height:\n",
    "        lower = height\n",
    "        upper = 0\n",
    "        delta = int((width-height)/2)\n",
    "        left = delta\n",
    "        right = width-delta\n",
    "    elif width<height:\n",
    "        left = 0\n",
    "        right = width\n",
    "        delta = int((height-width)/2)\n",
    "        upper = delta\n",
    "        lower = height-delta\n",
    "    else:\n",
    "        left = 0\n",
    "        right = width\n",
    "        upper = 0\n",
    "        lower = height\n",
    "    return (left, upper, right, lower)"
   ]
  },
  {
   "cell_type": "code",
   "execution_count": null,
   "id": "21799ee3",
   "metadata": {},
   "outputs": [],
   "source": [
    "from PIL import Image\n",
    "import urllib.request\n",
    "\n",
    "def save_correct_image(vec):\n",
    "    id_ = vec[0]\n",
    "    url = vec[1]\n",
    "    print(vec)\n",
    "    try:\n",
    "        urllib.request.urlretrieve(url, id_)\n",
    "        image = Image.open(f'{id_}')\n",
    "        w,h = image.size\n",
    "        size = w*h\n",
    "        box = find_square(image.size)\n",
    "        crop_image = image.crop(box)\n",
    "        final_image = crop_image.resize((128, 128))\n",
    "        final_image.save(f'images/{id_}')\n",
    "        os.remove(f'{id_}')\n",
    "        return size\n",
    "    except:\n",
    "        return -1\n",
    "    \n",
    "    \n"
   ]
  },
  {
   "cell_type": "code",
   "execution_count": null,
   "id": "214fb5f5",
   "metadata": {},
   "outputs": [],
   "source": [
    "data_final[\"size\"] = data_final[[\"id\",\"Image_url\"]].apply(save_correct_image, axis=1)"
   ]
  },
  {
   "cell_type": "code",
   "execution_count": null,
   "id": "19ac3752",
   "metadata": {},
   "outputs": [],
   "source": [
    "data_final"
   ]
  },
  {
   "cell_type": "code",
   "execution_count": null,
   "id": "0c6bbb27",
   "metadata": {},
   "outputs": [],
   "source": [
    "data_neg = data_final[data_final[\"size\"]==-1]"
   ]
  },
  {
   "cell_type": "code",
   "execution_count": null,
   "id": "f6a8e737",
   "metadata": {},
   "outputs": [],
   "source": []
  },
  {
   "cell_type": "code",
   "execution_count": null,
   "id": "c8fc876d",
   "metadata": {},
   "outputs": [],
   "source": [
    " pd.DataFrame(data_final).to_csv(f'data_with_size.csv')"
   ]
  },
  {
   "cell_type": "code",
   "execution_count": 4,
   "id": "600ee636",
   "metadata": {},
   "outputs": [],
   "source": []
  },
  {
   "cell_type": "code",
   "execution_count": 5,
   "id": "f9d8f8d6",
   "metadata": {},
   "outputs": [
    {
     "name": "stdout",
     "output_type": "stream",
     "text": [
      "Model: \"model\"\n",
      "__________________________________________________________________________________________________\n",
      " Layer (type)                   Output Shape         Param #     Connected to                     \n",
      "==================================================================================================\n",
      " input_1 (InputLayer)           [(None, 128, 128, 3  0           []                               \n",
      "                                )]                                                                \n",
      "                                                                                                  \n",
      " conv2d (Conv2D)                (None, 126, 126, 64  1792        ['input_1[0][0]']                \n",
      "                                )                                                                 \n",
      "                                                                                                  \n",
      " max_pooling2d (MaxPooling2D)   (None, 63, 63, 64)   0           ['conv2d[0][0]']                 \n",
      "                                                                                                  \n",
      " conv2d_1 (Conv2D)              (None, 61, 61, 32)   18464       ['max_pooling2d[0][0]']          \n",
      "                                                                                                  \n",
      " max_pooling2d_1 (MaxPooling2D)  (None, 30, 30, 32)  0           ['conv2d_1[0][0]']               \n",
      "                                                                                                  \n",
      " conv2d_2 (Conv2D)              (None, 28, 28, 32)   9248        ['max_pooling2d_1[0][0]']        \n",
      "                                                                                                  \n",
      " input_2 (InputLayer)           [(None, 1)]          0           []                               \n",
      "                                                                                                  \n",
      " input_3 (InputLayer)           [(None, 1, 300)]     0           []                               \n",
      "                                                                                                  \n",
      " input_4 (InputLayer)           [(None, 1)]          0           []                               \n",
      "                                                                                                  \n",
      " input_5 (InputLayer)           [(None, 20)]         0           []                               \n",
      "                                                                                                  \n",
      " max_pooling2d_2 (MaxPooling2D)  (None, 14, 14, 32)  0           ['conv2d_2[0][0]']               \n",
      "                                                                                                  \n",
      " dense (Dense)                  (None, 10)           20          ['input_2[0][0]']                \n",
      "                                                                                                  \n",
      " masking (Masking)              (None, 1, 300)       0           ['input_3[0][0]']                \n",
      "                                                                                                  \n",
      " dense_4 (Dense)                (None, 10)           20          ['input_4[0][0]']                \n",
      "                                                                                                  \n",
      " dense_7 (Dense)                (None, 10)           210         ['input_5[0][0]']                \n",
      "                                                                                                  \n",
      " conv2d_3 (Conv2D)              (None, 12, 12, 16)   4624        ['max_pooling2d_2[0][0]']        \n",
      "                                                                                                  \n",
      " dense_1 (Dense)                (None, 20)           220         ['dense[0][0]']                  \n",
      "                                                                                                  \n",
      " lstm (LSTM)                    (None, 32)           42624       ['masking[0][0]']                \n",
      "                                                                                                  \n",
      " dense_5 (Dense)                (None, 20)           220         ['dense_4[0][0]']                \n",
      "                                                                                                  \n",
      " dense_8 (Dense)                (None, 20)           220         ['dense_7[0][0]']                \n",
      "                                                                                                  \n",
      " max_pooling2d_3 (MaxPooling2D)  (None, 6, 6, 16)    0           ['conv2d_3[0][0]']               \n",
      "                                                                                                  \n",
      " dense_2 (Dense)                (None, 10)           210         ['dense_1[0][0]']                \n",
      "                                                                                                  \n",
      " dense_3 (Dense)                (None, 20)           660         ['lstm[0][0]']                   \n",
      "                                                                                                  \n",
      " dense_6 (Dense)                (None, 10)           210         ['dense_5[0][0]']                \n",
      "                                                                                                  \n",
      " dense_9 (Dense)                (None, 10)           210         ['dense_8[0][0]']                \n",
      "                                                                                                  \n",
      " flatten (Flatten)              (None, 576)          0           ['max_pooling2d_3[0][0]']        \n",
      "                                                                                                  \n",
      " flatten_1 (Flatten)            (None, 10)           0           ['dense_2[0][0]']                \n",
      "                                                                                                  \n",
      " flatten_2 (Flatten)            (None, 20)           0           ['dense_3[0][0]']                \n",
      "                                                                                                  \n",
      " flatten_3 (Flatten)            (None, 10)           0           ['dense_6[0][0]']                \n",
      "                                                                                                  \n",
      " flatten_4 (Flatten)            (None, 10)           0           ['dense_9[0][0]']                \n",
      "                                                                                                  \n",
      " concatenate (Concatenate)      (None, 626)          0           ['flatten[0][0]',                \n",
      "                                                                  'flatten_1[0][0]',              \n",
      "                                                                  'flatten_2[0][0]',              \n",
      "                                                                  'flatten_3[0][0]',              \n",
      "                                                                  'flatten_4[0][0]']              \n",
      "                                                                                                  \n",
      " dense_10 (Dense)               (None, 10)           6270        ['concatenate[0][0]']            \n",
      "                                                                                                  \n",
      " dense_11 (Dense)               (None, 10)           110         ['dense_10[0][0]']               \n",
      "                                                                                                  \n",
      " dense_12 (Dense)               (None, 5)            55          ['dense_11[0][0]']               \n",
      "                                                                                                  \n",
      "==================================================================================================\n",
      "Total params: 85,387\n",
      "Trainable params: 85,387\n",
      "Non-trainable params: 0\n",
      "__________________________________________________________________________________________________\n",
      "None\n",
      "You must install pydot (`pip install pydot`) and install graphviz (see instructions at https://graphviz.gitlab.io/download/) for plot_model to work.\n"
     ]
    }
   ],
   "source": []
  },
  {
   "cell_type": "code",
   "execution_count": null,
   "id": "b07ee68d",
   "metadata": {},
   "outputs": [],
   "source": [
    "pip install pydot"
   ]
  },
  {
   "cell_type": "code",
   "execution_count": null,
   "id": "d9de2e7f",
   "metadata": {},
   "outputs": [],
   "source": []
  }
 ],
 "metadata": {
  "kernelspec": {
   "display_name": "Python 3.10.6 64-bit ('Upvote_Model')",
   "language": "python",
   "name": "python3"
  },
  "language_info": {
   "codemirror_mode": {
    "name": "ipython",
    "version": 3
   },
   "file_extension": ".py",
   "mimetype": "text/x-python",
   "name": "python",
   "nbconvert_exporter": "python",
   "pygments_lexer": "ipython3",
   "version": "3.10.6"
  },
  "toc": {
   "base_numbering": 1,
   "nav_menu": {},
   "number_sections": true,
   "sideBar": true,
   "skip_h1_title": false,
   "title_cell": "Table of Contents",
   "title_sidebar": "Contents",
   "toc_cell": false,
   "toc_position": {},
   "toc_section_display": true,
   "toc_window_display": false
  },
  "vscode": {
   "interpreter": {
    "hash": "1700c8e5621e74731f8e23d93b19be813a983626b02b9ea36d5ce975fb366c3f"
   }
  }
 },
 "nbformat": 4,
 "nbformat_minor": 5
}
